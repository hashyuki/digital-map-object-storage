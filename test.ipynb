{
 "cells": [
  {
   "cell_type": "code",
   "execution_count": null,
   "metadata": {},
   "outputs": [],
   "source": [
    "import os\n",
    "import boto3\n",
    "from dotenv import load_dotenv\n",
    "\n",
    "load_dotenv()"
   ]
  },
  {
   "cell_type": "code",
   "execution_count": null,
   "metadata": {},
   "outputs": [],
   "source": [
    "# Clientの作成\n",
    "s3 = boto3.client(\n",
    "    \"s3\",\n",
    "    endpoint_url=f\"http://localhost:{os.getenv('MINIO_PORT')}\",\n",
    "    aws_access_key_id=os.getenv(\"MINIO_CLIENT_ACCESS_KEY\"),\n",
    "    aws_secret_access_key=os.getenv(\"MINIO_CLIENT_SECRET_KEY\"),\n",
    ")"
   ]
  },
  {
   "cell_type": "code",
   "execution_count": null,
   "metadata": {},
   "outputs": [],
   "source": [
    "# バケットの作成\n",
    "bucket_name = \"images\"\n",
    "\n",
    "try:\n",
    "    s3.head_bucket(Bucket=bucket_name)\n",
    "    print(f\"Bucket '{bucket_name}' already exists.\")\n",
    "except:\n",
    "    # バケットが存在しない場合に作成\n",
    "    print(f\"Bucket '{bucket_name}' does not exist. Creating now...\")\n",
    "    s3.create_bucket(Bucket=bucket_name)\n",
    "    print(f\"Bucket '{bucket_name}' created.\")\n"
   ]
  },
  {
   "cell_type": "code",
   "execution_count": null,
   "metadata": {},
   "outputs": [],
   "source": [
    "# データのアップロード\n",
    "object_list = s3.list_objects(Bucket=bucket_name).get(\"Contents\")\n",
    "print(object_list)\n",
    "\n",
    "s3.upload_file(\"asset/*\", bucket_name, \"*\")\n",
    "\n",
    "object_list = s3.list_objects(Bucket=bucket_name).get(\"Contents\")\n",
    "print(object_list)"
   ]
  },
  {
   "cell_type": "code",
   "execution_count": null,
   "metadata": {},
   "outputs": [],
   "source": [
    "# データの削除\n",
    "object_list = s3.list_objects(Bucket=bucket_name).get(\"Contents\")\n",
    "print(object_list)\n",
    "\n",
    "s3.delete_object(Bucket=bucket_name, Key=\"img01.jpg\")\n",
    "\n",
    "object_list = s3.list_objects(Bucket=bucket_name).get(\"Contents\")\n",
    "print(object_list)"
   ]
  },
  {
   "cell_type": "code",
   "execution_count": null,
   "metadata": {},
   "outputs": [],
   "source": [
    "# バケットの削除\n",
    "object_list = s3.list_buckets()\n",
    "print(object_list)\n",
    "\n",
    "try:\n",
    "    s3.delete_bucket(Bucket=bucket_name)\n",
    "except:\n",
    "    print(f\"Bucket '{bucket_name}' does not exist.\")"
   ]
  }
 ],
 "metadata": {
  "kernelspec": {
   "display_name": "Python 3 (ipykernel)",
   "language": "python",
   "name": "python3"
  },
  "language_info": {
   "codemirror_mode": {
    "name": "ipython",
    "version": 3
   },
   "file_extension": ".py",
   "mimetype": "text/x-python",
   "name": "python",
   "nbconvert_exporter": "python",
   "pygments_lexer": "ipython3",
   "version": "3.10.14"
  }
 },
 "nbformat": 4,
 "nbformat_minor": 4
}
