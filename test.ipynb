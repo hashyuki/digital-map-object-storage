{
 "cells": [
  {
   "cell_type": "code",
   "execution_count": null,
   "metadata": {},
   "outputs": [],
   "source": [
    "import boto3\n",
    "from botocore.exceptions import ClientError"
   ]
  },
  {
   "cell_type": "code",
   "execution_count": null,
   "metadata": {},
   "outputs": [],
   "source": [
    "# Clientの作成\n",
    "s3 = boto3.client(\n",
    "    \"s3\",\n",
    "    endpoint_url=\"http://localhost:9000\",\n",
    "    aws_access_key_id=\"your access key\",\n",
    "    aws_secret_access_key=\"your secret key\",\n",
    ")"
   ]
  },
  {
   "cell_type": "code",
   "execution_count": null,
   "metadata": {},
   "outputs": [],
   "source": [
    "# バケットの作成\n",
    "bucket_name = \"images\"\n",
    "\n",
    "try:\n",
    "    s3.head_bucket(Bucket=bucket_name)\n",
    "    print(f\"Bucket '{bucket_name}' already exists.\")\n",
    "except ClientError:\n",
    "    # バケットが存在しない場合に作成\n",
    "    print(f\"Bucket '{bucket_name}' does not exist. Creating now...\")\n",
    "    s3.create_bucket(Bucket=bucket_name)\n",
    "    print(f\"Bucket '{bucket_name}' created.\")\n"
   ]
  },
  {
   "cell_type": "code",
   "execution_count": null,
   "metadata": {},
   "outputs": [],
   "source": [
    "# データのアップロード\n",
    "object_list = s3.list_objects(Bucket=bucket_name).get(\"Contents\")\n",
    "print(object_list)\n",
    "\n",
    "s3.upload_file(\"asset/screenshot01.png\", bucket_name, \"img01.jpg\")\n",
    "\n",
    "object_list = s3.list_objects(Bucket=bucket_name).get(\"Contents\")\n",
    "print(object_list)"
   ]
  },
  {
   "cell_type": "code",
   "execution_count": null,
   "metadata": {},
   "outputs": [],
   "source": [
    "# データの削除\n",
    "object_list = s3.list_objects(Bucket=bucket_name).get(\"Contents\")\n",
    "print(object_list)\n",
    "\n",
    "s3.delete_object(Bucket=bucket_name, Key=\"img01.jpg\")\n",
    "\n",
    "object_list = s3.list_objects(Bucket=bucket_name).get(\"Contents\")\n",
    "print(object_list)"
   ]
  },
  {
   "cell_type": "code",
   "execution_count": null,
   "metadata": {},
   "outputs": [],
   "source": [
    "# バケットの削除\n",
    "object_list = s3.list_buckets()\n",
    "print(object_list)\n",
    "\n",
    "try:\n",
    "    s3.delete_bucket(Bucket=bucket_name)\n",
    "except:\n",
    "    print(f\"Bucket '{bucket_name}' does not exist.\")"
   ]
  }
 ],
 "metadata": {
  "kernelspec": {
   "display_name": ".venv",
   "language": "python",
   "name": "python3"
  },
  "language_info": {
   "codemirror_mode": {
    "name": "ipython",
    "version": 3
   },
   "file_extension": ".py",
   "mimetype": "text/x-python",
   "name": "python",
   "nbconvert_exporter": "python",
   "pygments_lexer": "ipython3",
   "version": "3.10.14"
  }
 },
 "nbformat": 4,
 "nbformat_minor": 2
}
