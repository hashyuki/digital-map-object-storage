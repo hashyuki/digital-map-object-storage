{
 "cells": [
  {
   "cell_type": "code",
   "execution_count": 1,
   "metadata": {},
   "outputs": [
    {
     "data": {
      "text/plain": [
       "True"
      ]
     },
     "execution_count": 1,
     "metadata": {},
     "output_type": "execute_result"
    }
   ],
   "source": [
    "import os\n",
    "import boto3\n",
    "from dotenv import load_dotenv\n",
    "\n",
    "load_dotenv()"
   ]
  },
  {
   "cell_type": "code",
   "execution_count": 2,
   "metadata": {},
   "outputs": [],
   "source": [
    "# Clientの作成\n",
    "s3 = boto3.client(\n",
    "    \"s3\",\n",
    "    endpoint_url=f\"http://localhost:{os.getenv('MINIO_PORT')}\",\n",
    "    aws_access_key_id=os.getenv(\"MINIO_CLIENT_ACCESS_KEY\"),\n",
    "    aws_secret_access_key=os.getenv(\"MINIO_SECRET_KEY\")\n",
    ")"
   ]
  },
  {
   "cell_type": "code",
   "execution_count": 3,
   "metadata": {},
   "outputs": [
    {
     "name": "stdout",
     "output_type": "stream",
     "text": [
      "Bucket 'images' does not exist. Creating now...\n",
      "Bucket 'images' created.\n"
     ]
    }
   ],
   "source": [
    "# バケットの作成\n",
    "bucket_name = \"images\"\n",
    "\n",
    "try:\n",
    "    s3.head_bucket(Bucket=bucket_name)\n",
    "    print(f\"Bucket '{bucket_name}' already exists.\")\n",
    "except:\n",
    "    # バケットが存在しない場合に作成\n",
    "    print(f\"Bucket '{bucket_name}' does not exist. Creating now...\")\n",
    "    s3.create_bucket(Bucket=bucket_name)\n",
    "    print(f\"Bucket '{bucket_name}' created.\")\n"
   ]
  },
  {
   "cell_type": "code",
   "execution_count": 55,
   "metadata": {},
   "outputs": [
    {
     "name": "stdout",
     "output_type": "stream",
     "text": [
      "None\n",
      "[{'Key': 'img01.jpg', 'LastModified': datetime.datetime(2024, 8, 31, 8, 39, 25, 555000, tzinfo=tzutc()), 'ETag': '\"8325faadb639c60bbc4d408c5a771ebd\"', 'Size': 179480, 'StorageClass': 'STANDARD', 'Owner': {'DisplayName': 'minio', 'ID': '02d6176db174dc93cb1b899f7c6078f08654445fe8cf1b6ce98d8855f66bdbf4'}}]\n"
     ]
    }
   ],
   "source": [
    "# データのアップロード\n",
    "object_list = s3.list_objects(Bucket=bucket_name).get(\"Contents\")\n",
    "print(object_list)\n",
    "\n",
    "s3.upload_file(\"asset/screenshot01.png\", bucket_name, \"minio-logo.png\")\n",
    "\n",
    "object_list = s3.list_objects(Bucket=bucket_name).get(\"Contents\")\n",
    "print(object_list)"
   ]
  },
  {
   "cell_type": "code",
   "execution_count": 54,
   "metadata": {},
   "outputs": [
    {
     "name": "stdout",
     "output_type": "stream",
     "text": [
      "[{'Key': 'img01.jpg', 'LastModified': datetime.datetime(2024, 8, 31, 8, 39, 19, 416000, tzinfo=tzutc()), 'ETag': '\"8325faadb639c60bbc4d408c5a771ebd\"', 'Size': 179480, 'StorageClass': 'STANDARD', 'Owner': {'DisplayName': 'minio', 'ID': '02d6176db174dc93cb1b899f7c6078f08654445fe8cf1b6ce98d8855f66bdbf4'}}]\n",
      "None\n"
     ]
    }
   ],
   "source": [
    "# データの削除\n",
    "object_list = s3.list_objects(Bucket=bucket_name).get(\"Contents\")\n",
    "print(object_list)\n",
    "\n",
    "s3.delete_object(Bucket=bucket_name, Key=\"img01.jpg\")\n",
    "\n",
    "object_list = s3.list_objects(Bucket=bucket_name).get(\"Contents\")\n",
    "print(object_list)"
   ]
  },
  {
   "cell_type": "code",
   "execution_count": null,
   "metadata": {},
   "outputs": [],
   "source": [
    "# バケットの削除\n",
    "object_list = s3.list_buckets()\n",
    "print(object_list)\n",
    "\n",
    "try:\n",
    "    s3.delete_bucket(Bucket=bucket_name)\n",
    "except:\n",
    "    print(f\"Bucket '{bucket_name}' does not exist.\")"
   ]
  }
 ],
 "metadata": {
  "kernelspec": {
   "display_name": ".venv",
   "language": "python",
   "name": "python3"
  },
  "language_info": {
   "codemirror_mode": {
    "name": "ipython",
    "version": 3
   },
   "file_extension": ".py",
   "mimetype": "text/x-python",
   "name": "python",
   "nbconvert_exporter": "python",
   "pygments_lexer": "ipython3",
   "version": "3.10.14"
  }
 },
 "nbformat": 4,
 "nbformat_minor": 2
}
